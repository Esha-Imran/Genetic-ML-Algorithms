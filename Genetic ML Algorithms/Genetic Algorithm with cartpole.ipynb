{
 "cells": [
  {
   "cell_type": "code",
   "execution_count": 1,
   "id": "5ac8c63d",
   "metadata": {},
   "outputs": [],
   "source": [
    "import gym\n",
    "import random\n",
    "import numpy as np\n",
    "import matplotlib.pyplot as plt\n",
    "from random import randint\n",
    "from statistics import mean, median"
   ]
  },
  {
   "cell_type": "code",
   "execution_count": 24,
   "id": "97b47bb3",
   "metadata": {},
   "outputs": [
    {
     "name": "stdout",
     "output_type": "stream",
     "text": [
      "Observation space: Box(-3.4028234663852886e+38, 3.4028234663852886e+38, (4,), float32)\n",
      "Action space: Discrete(2)\n"
     ]
    }
   ],
   "source": [
    "env_name = \"CartPole-v0\"\n",
    "env = gym.make(env_name)\n",
    "print(\"Observation space:\", env.observation_space)\n",
    "print(\"Action space:\", env.action_space)"
   ]
  },
  {
   "cell_type": "code",
   "execution_count": 25,
   "id": "bb4f6dc7",
   "metadata": {},
   "outputs": [],
   "source": [
    "env.reset()\n",
    "#Number of frames\n",
    "goal_steps = 500\n",
    "score_requirement = 50\n",
    "initial_games = 10000"
   ]
  },
  {
   "cell_type": "code",
   "execution_count": 26,
   "id": "c32d0466",
   "metadata": {},
   "outputs": [],
   "source": [
    "def create_data():\n",
    "    training_data, scores, accepted_scores = [], [], []\n",
    "    for _ in range(initial_games):\n",
    "        score = 0\n",
    "        #Moves from current environment and previous observations\n",
    "        game_memory, prev_observation = [], []\n",
    "        for _ in range(goal_steps):\n",
    "            action = random.randrange(0,2)\n",
    "            observation, reward, done, info = env.step(action)\n",
    "            \n",
    "            if len(prev_observation) > 0:\n",
    "                game_memory.append([prev_observation, action])\n",
    "                \n",
    "            prev_observation = observation\n",
    "            score += reward\n",
    "            \n",
    "            if done:\n",
    "                break\n",
    "            \n",
    "        if score >= score_requirement:\n",
    "            accepted_scores.append(score)\n",
    "            for data in game_memory:\n",
    "                training_data.append(data)\n",
    "                    \n",
    "        env.reset()        \n",
    "        scores.append(score)\n",
    "       \n",
    "    print('Average accepted score:', mean(accepted_scores))\n",
    "    print('Median accepted score:', median(accepted_scores))\n",
    "        \n",
    "    return training_data"
   ]
  },
  {
   "cell_type": "code",
   "execution_count": 27,
   "id": "ff2ba5e2",
   "metadata": {},
   "outputs": [],
   "source": [
    "def create_initial_pop(pop_size):\n",
    "    initial_pop = np.random.uniform(low = -2.0, high = 2.0, size = pop_size)\n",
    "    print('Initial Population:\\n{}'.format(initial_pop))\n",
    "    return initial_pop\n",
    "\n",
    "def sigmoid(z):\n",
    "    return 1/(1+np.exp(-z))\n",
    "\n",
    "def predict(X):\n",
    "    pred = np.empty((X.shape[0], 1))\n",
    "    for i in range(X.shape[0]):\n",
    "        if X[i] >= 0.5:\n",
    "            pred[i] = 0\n",
    "        else:\n",
    "            pred[i] = 1\n",
    "    return pred    "
   ]
  },
  {
   "cell_type": "code",
   "execution_count": 28,
   "id": "7960c6b4",
   "metadata": {},
   "outputs": [],
   "source": [
    "def cal_fitness(population, X, y, pop_size):\n",
    "    fitness = np.empty((pop_size[0], 1))\n",
    "    for i in range(pop_size[0]):\n",
    "        hx  = X@(population[i]).T\n",
    "        fitness[i][0] = np.sum(hx)\n",
    "    return fitness"
   ]
  },
  {
   "cell_type": "code",
   "execution_count": 29,
   "id": "fa07ae0b",
   "metadata": {},
   "outputs": [],
   "source": [
    "def selection(population, fitness, num_parents):\n",
    "    fitness = list(fitness)\n",
    "    parents = np.empty((num_parents, population.shape[1]))\n",
    "    for i in range(num_parents):\n",
    "        max_fitness_idx = np.where(fitness == np.max(fitness))\n",
    "        parents[i,:] = population[max_fitness_idx[0][0], :]\n",
    "        fitness[max_fitness_idx[0][0]] = -999999\n",
    "    return parents"
   ]
  },
  {
   "cell_type": "code",
   "execution_count": 30,
   "id": "ea04e1f3",
   "metadata": {},
   "outputs": [],
   "source": [
    "def crossover(parents, num_offsprings):\n",
    "    offsprings = np.empty((num_offsprings, parents.shape[1]))\n",
    "    crossover_point = int(parents.shape[1]/2)\n",
    "    crossover_rate = 0.8\n",
    "    i=0\n",
    "    while (parents.shape[0] < num_offsprings):\n",
    "        parent1_index = i%parents.shape[0]\n",
    "        parent2_index = (i+1)%parents.shape[0]\n",
    "        x = random.random()\n",
    "        if x > crossover_rate:\n",
    "            continue\n",
    "        parent1_index = i%parents.shape[0]\n",
    "        parent2_index = (i+1)%parents.shape[0]\n",
    "        offsprings[i,0:crossover_point] = parents[parent1_index,0:crossover_point]\n",
    "        offsprings[i,crossover_point:] = parents[parent2_index,crossover_point:]\n",
    "        i=+1\n",
    "    return offsprings    "
   ]
  },
  {
   "cell_type": "code",
   "execution_count": 31,
   "id": "ebe126b4",
   "metadata": {},
   "outputs": [],
   "source": [
    "\n",
    "def mutation(offsprings):\n",
    "    mutants = np.empty((offsprings.shape))\n",
    "    mutation_rate = 0.4\n",
    "    for i in range(mutants.shape[0]):\n",
    "        random_value = random.random()\n",
    "        mutants[i,:] = offsprings[i,:]\n",
    "        if random_value > mutation_rate:\n",
    "            continue\n",
    "        int_random_value = randint(0,offsprings.shape[1]-1)    \n",
    "        mutants[i,int_random_value] += np.random.uniform(-1.0, 1.0, 1)\n",
    "        \n",
    "    return mutants"
   ]
  },
  {
   "cell_type": "code",
   "execution_count": 34,
   "id": "d8190f8c",
   "metadata": {},
   "outputs": [
    {
     "name": "stderr",
     "output_type": "stream",
     "text": [
      "c:\\users\\aa\\appdata\\local\\programs\\python\\python39\\lib\\site-packages\\gym\\logger.py:30: UserWarning: \u001b[33mWARN: You are calling 'step()' even though this environment has already returned done = True. You should always call 'reset()' once you receive 'done = True' -- any further steps are undefined behavior.\u001b[0m\n",
      "  warnings.warn(colorize('%s: %s'%('WARN', msg % args), 'yellow'))\n"
     ]
    },
    {
     "name": "stdout",
     "output_type": "stream",
     "text": [
      "Average accepted score: 61.134020618556704\n",
      "Median accepted score: 58.0\n",
      "Initial Population:\n",
      "[[ 0.77928023 -1.47752629  0.94588947  1.68575177]\n",
      " [-0.25310428 -0.61556119  0.62661198  0.81394725]\n",
      " [-0.23761529 -0.34546559 -0.28275515  0.9202972 ]\n",
      " [-1.00873949  1.98075311  0.61379152 -1.48218795]\n",
      " [-0.29600434 -0.59545589  0.8257417  -0.12888029]\n",
      " [ 1.87670396 -0.26684862  1.68350951  1.12570614]\n",
      " [-0.88682952  0.54141523  1.05052054 -1.85152727]\n",
      " [ 0.11034557 -0.21728824  1.68215915  0.56923073]]\n",
      "Weights: [array([ 3.41237405,  7.28045198, -1.96219983, -2.84620948])]\n"
     ]
    },
    {
     "name": "stderr",
     "output_type": "stream",
     "text": [
      "<ipython-input-29-2d0d36e0f988>:5: VisibleDeprecationWarning: Creating an ndarray from ragged nested sequences (which is a list-or-tuple of lists-or-tuples-or ndarrays with different lengths or shapes) is deprecated. If you meant to do this, you must specify 'dtype=object' when creating the ndarray.\n",
      "  max_fitness_idx = np.where(fitness == np.max(fitness))\n"
     ]
    }
   ],
   "source": [
    "def GA_model(training_data):\n",
    "    X = np.array([i[0] for i in training_data])\n",
    "    y = np.array([i[1] for i in training_data]).reshape(-1, 1)\n",
    "    \n",
    "    weights = []\n",
    "    num_solutions = 8\n",
    "    pop_size = (num_solutions, X.shape[1])\n",
    "    num_parents = int(pop_size[0]/2)\n",
    "    num_offsprings = pop_size[0] - num_parents \n",
    "    num_generations = 50\n",
    "    \n",
    "    population = create_initial_pop(pop_size)\n",
    "    \n",
    "    for i in range(num_generations):\n",
    "        fitness = cal_fitness(population, X, y, pop_size)\n",
    "        parents = selection(population, fitness, num_parents)\n",
    "        offsprings = crossover(parents, num_offsprings)\n",
    "        mutants = mutation(offsprings)\n",
    "        population[0:parents.shape[0], :] = parents\n",
    "        population[parents.shape[0]:, :] = mutants\n",
    "    \n",
    "    fitness_last_gen = cal_fitness(population, X, y, pop_size)\n",
    "    max_fitness = np.where(fitness_last_gen == np.max(fitness_last_gen))\n",
    "    weights.append(population[max_fitness[0][0],:])\n",
    "    return weights\n",
    "\n",
    "def GA_model_predict(test_data, weights):\n",
    "    hx = sigmoid(test_data@(weights).T)\n",
    "    pred = predict(hx)\n",
    "    pred = pred.astype(int)\n",
    "    return pred[0][0]\n",
    "\n",
    "training_data = create_data()\n",
    "weights = GA_model(training_data)\n",
    "print('Weights: {}'.format(weights))\n",
    "weights = np.asarray(weights)"
   ]
  },
  {
   "cell_type": "code",
   "execution_count": 35,
   "id": "23bb6cb0",
   "metadata": {},
   "outputs": [
    {
     "name": "stdout",
     "output_type": "stream",
     "text": [
      "Tournament: 0, total_reward: 73.00\n",
      "Tournament: 1, total_reward: 52.00\n",
      "Tournament: 2, total_reward: 50.00\n",
      "Tournament: 3, total_reward: 200.00\n",
      "Tournament: 4, total_reward: 52.00\n",
      "Tournament: 5, total_reward: 151.00\n",
      "Tournament: 6, total_reward: 39.00\n",
      "Tournament: 7, total_reward: 52.00\n",
      "Tournament: 8, total_reward: 94.00\n",
      "Tournament: 9, total_reward: 52.00\n",
      "Tournament: 10, total_reward: 45.00\n",
      "Tournament: 11, total_reward: 106.00\n",
      "Tournament: 12, total_reward: 67.00\n",
      "Tournament: 13, total_reward: 62.00\n",
      "Tournament: 14, total_reward: 46.00\n",
      "Tournament: 15, total_reward: 34.00\n",
      "Tournament: 16, total_reward: 34.00\n",
      "Tournament: 17, total_reward: 92.00\n",
      "Tournament: 18, total_reward: 60.00\n",
      "Tournament: 19, total_reward: 39.00\n",
      "Tournament: 20, total_reward: 82.00\n",
      "Tournament: 21, total_reward: 49.00\n",
      "Tournament: 22, total_reward: 122.00\n",
      "Tournament: 23, total_reward: 41.00\n",
      "Tournament: 24, total_reward: 63.00\n",
      "Tournament: 25, total_reward: 52.00\n",
      "Tournament: 26, total_reward: 42.00\n",
      "Tournament: 27, total_reward: 55.00\n",
      "Tournament: 28, total_reward: 52.00\n",
      "Tournament: 29, total_reward: 170.00\n",
      "Tournament: 30, total_reward: 54.00\n",
      "Tournament: 31, total_reward: 159.00\n",
      "Tournament: 32, total_reward: 200.00\n",
      "Tournament: 33, total_reward: 112.00\n",
      "Tournament: 34, total_reward: 56.00\n",
      "Tournament: 35, total_reward: 164.00\n",
      "Tournament: 36, total_reward: 200.00\n",
      "Tournament: 37, total_reward: 108.00\n",
      "Tournament: 38, total_reward: 48.00\n",
      "Tournament: 39, total_reward: 36.00\n",
      "Tournament: 40, total_reward: 124.00\n",
      "Tournament: 41, total_reward: 44.00\n",
      "Tournament: 42, total_reward: 51.00\n",
      "Tournament: 43, total_reward: 51.00\n"
     ]
    },
    {
     "ename": "KeyboardInterrupt",
     "evalue": "",
     "output_type": "error",
     "traceback": [
      "\u001b[1;31m---------------------------------------------------------------------------\u001b[0m",
      "\u001b[1;31mKeyboardInterrupt\u001b[0m                         Traceback (most recent call last)",
      "\u001b[1;32m<ipython-input-35-4800681d24ed>\u001b[0m in \u001b[0;36m<module>\u001b[1;34m\u001b[0m\n\u001b[0;32m     15\u001b[0m     \u001b[0mdone\u001b[0m \u001b[1;33m=\u001b[0m \u001b[1;32mFalse\u001b[0m\u001b[1;33m\u001b[0m\u001b[1;33m\u001b[0m\u001b[0m\n\u001b[0;32m     16\u001b[0m     \u001b[1;32mwhile\u001b[0m \u001b[1;32mnot\u001b[0m \u001b[0mdone\u001b[0m\u001b[1;33m:\u001b[0m\u001b[1;33m\u001b[0m\u001b[1;33m\u001b[0m\u001b[0m\n\u001b[1;32m---> 17\u001b[1;33m         \u001b[0menv\u001b[0m\u001b[1;33m.\u001b[0m\u001b[0mrender\u001b[0m\u001b[1;33m(\u001b[0m\u001b[1;33m)\u001b[0m\u001b[1;33m\u001b[0m\u001b[1;33m\u001b[0m\u001b[0m\n\u001b[0m\u001b[0;32m     18\u001b[0m         \u001b[1;32mif\u001b[0m \u001b[0mlen\u001b[0m\u001b[1;33m(\u001b[0m\u001b[0mprev_obs\u001b[0m\u001b[1;33m)\u001b[0m \u001b[1;33m==\u001b[0m \u001b[1;36m0\u001b[0m\u001b[1;33m:\u001b[0m\u001b[1;33m\u001b[0m\u001b[1;33m\u001b[0m\u001b[0m\n\u001b[0;32m     19\u001b[0m             \u001b[0maction\u001b[0m \u001b[1;33m=\u001b[0m \u001b[0mrandom\u001b[0m\u001b[1;33m.\u001b[0m\u001b[0mrandrange\u001b[0m\u001b[1;33m(\u001b[0m\u001b[1;36m0\u001b[0m\u001b[1;33m,\u001b[0m\u001b[1;36m2\u001b[0m\u001b[1;33m)\u001b[0m\u001b[1;33m\u001b[0m\u001b[1;33m\u001b[0m\u001b[0m\n",
      "\u001b[1;32mc:\\users\\aa\\appdata\\local\\programs\\python\\python39\\lib\\site-packages\\gym\\core.py\u001b[0m in \u001b[0;36mrender\u001b[1;34m(self, mode, **kwargs)\u001b[0m\n\u001b[0;32m    238\u001b[0m \u001b[1;33m\u001b[0m\u001b[0m\n\u001b[0;32m    239\u001b[0m     \u001b[1;32mdef\u001b[0m \u001b[0mrender\u001b[0m\u001b[1;33m(\u001b[0m\u001b[0mself\u001b[0m\u001b[1;33m,\u001b[0m \u001b[0mmode\u001b[0m\u001b[1;33m=\u001b[0m\u001b[1;34m'human'\u001b[0m\u001b[1;33m,\u001b[0m \u001b[1;33m**\u001b[0m\u001b[0mkwargs\u001b[0m\u001b[1;33m)\u001b[0m\u001b[1;33m:\u001b[0m\u001b[1;33m\u001b[0m\u001b[1;33m\u001b[0m\u001b[0m\n\u001b[1;32m--> 240\u001b[1;33m         \u001b[1;32mreturn\u001b[0m \u001b[0mself\u001b[0m\u001b[1;33m.\u001b[0m\u001b[0menv\u001b[0m\u001b[1;33m.\u001b[0m\u001b[0mrender\u001b[0m\u001b[1;33m(\u001b[0m\u001b[0mmode\u001b[0m\u001b[1;33m,\u001b[0m \u001b[1;33m**\u001b[0m\u001b[0mkwargs\u001b[0m\u001b[1;33m)\u001b[0m\u001b[1;33m\u001b[0m\u001b[1;33m\u001b[0m\u001b[0m\n\u001b[0m\u001b[0;32m    241\u001b[0m \u001b[1;33m\u001b[0m\u001b[0m\n\u001b[0;32m    242\u001b[0m     \u001b[1;32mdef\u001b[0m \u001b[0mclose\u001b[0m\u001b[1;33m(\u001b[0m\u001b[0mself\u001b[0m\u001b[1;33m)\u001b[0m\u001b[1;33m:\u001b[0m\u001b[1;33m\u001b[0m\u001b[1;33m\u001b[0m\u001b[0m\n",
      "\u001b[1;32mc:\\users\\aa\\appdata\\local\\programs\\python\\python39\\lib\\site-packages\\gym\\envs\\classic_control\\cartpole.py\u001b[0m in \u001b[0;36mrender\u001b[1;34m(self, mode)\u001b[0m\n\u001b[0;32m    211\u001b[0m         \u001b[0mself\u001b[0m\u001b[1;33m.\u001b[0m\u001b[0mpoletrans\u001b[0m\u001b[1;33m.\u001b[0m\u001b[0mset_rotation\u001b[0m\u001b[1;33m(\u001b[0m\u001b[1;33m-\u001b[0m\u001b[0mx\u001b[0m\u001b[1;33m[\u001b[0m\u001b[1;36m2\u001b[0m\u001b[1;33m]\u001b[0m\u001b[1;33m)\u001b[0m\u001b[1;33m\u001b[0m\u001b[1;33m\u001b[0m\u001b[0m\n\u001b[0;32m    212\u001b[0m \u001b[1;33m\u001b[0m\u001b[0m\n\u001b[1;32m--> 213\u001b[1;33m         \u001b[1;32mreturn\u001b[0m \u001b[0mself\u001b[0m\u001b[1;33m.\u001b[0m\u001b[0mviewer\u001b[0m\u001b[1;33m.\u001b[0m\u001b[0mrender\u001b[0m\u001b[1;33m(\u001b[0m\u001b[0mreturn_rgb_array\u001b[0m\u001b[1;33m=\u001b[0m\u001b[0mmode\u001b[0m \u001b[1;33m==\u001b[0m \u001b[1;34m'rgb_array'\u001b[0m\u001b[1;33m)\u001b[0m\u001b[1;33m\u001b[0m\u001b[1;33m\u001b[0m\u001b[0m\n\u001b[0m\u001b[0;32m    214\u001b[0m \u001b[1;33m\u001b[0m\u001b[0m\n\u001b[0;32m    215\u001b[0m     \u001b[1;32mdef\u001b[0m \u001b[0mclose\u001b[0m\u001b[1;33m(\u001b[0m\u001b[0mself\u001b[0m\u001b[1;33m)\u001b[0m\u001b[1;33m:\u001b[0m\u001b[1;33m\u001b[0m\u001b[1;33m\u001b[0m\u001b[0m\n",
      "\u001b[1;32mc:\\users\\aa\\appdata\\local\\programs\\python\\python39\\lib\\site-packages\\gym\\envs\\classic_control\\rendering.py\u001b[0m in \u001b[0;36mrender\u001b[1;34m(self, return_rgb_array)\u001b[0m\n\u001b[0;32m    125\u001b[0m             \u001b[0marr\u001b[0m \u001b[1;33m=\u001b[0m \u001b[0marr\u001b[0m\u001b[1;33m.\u001b[0m\u001b[0mreshape\u001b[0m\u001b[1;33m(\u001b[0m\u001b[0mbuffer\u001b[0m\u001b[1;33m.\u001b[0m\u001b[0mheight\u001b[0m\u001b[1;33m,\u001b[0m \u001b[0mbuffer\u001b[0m\u001b[1;33m.\u001b[0m\u001b[0mwidth\u001b[0m\u001b[1;33m,\u001b[0m \u001b[1;36m4\u001b[0m\u001b[1;33m)\u001b[0m\u001b[1;33m\u001b[0m\u001b[1;33m\u001b[0m\u001b[0m\n\u001b[0;32m    126\u001b[0m             \u001b[0marr\u001b[0m \u001b[1;33m=\u001b[0m \u001b[0marr\u001b[0m\u001b[1;33m[\u001b[0m\u001b[1;33m:\u001b[0m\u001b[1;33m:\u001b[0m\u001b[1;33m-\u001b[0m\u001b[1;36m1\u001b[0m\u001b[1;33m,\u001b[0m\u001b[1;33m:\u001b[0m\u001b[1;33m,\u001b[0m\u001b[1;36m0\u001b[0m\u001b[1;33m:\u001b[0m\u001b[1;36m3\u001b[0m\u001b[1;33m]\u001b[0m\u001b[1;33m\u001b[0m\u001b[1;33m\u001b[0m\u001b[0m\n\u001b[1;32m--> 127\u001b[1;33m         \u001b[0mself\u001b[0m\u001b[1;33m.\u001b[0m\u001b[0mwindow\u001b[0m\u001b[1;33m.\u001b[0m\u001b[0mflip\u001b[0m\u001b[1;33m(\u001b[0m\u001b[1;33m)\u001b[0m\u001b[1;33m\u001b[0m\u001b[1;33m\u001b[0m\u001b[0m\n\u001b[0m\u001b[0;32m    128\u001b[0m         \u001b[0mself\u001b[0m\u001b[1;33m.\u001b[0m\u001b[0monetime_geoms\u001b[0m \u001b[1;33m=\u001b[0m \u001b[1;33m[\u001b[0m\u001b[1;33m]\u001b[0m\u001b[1;33m\u001b[0m\u001b[1;33m\u001b[0m\u001b[0m\n\u001b[0;32m    129\u001b[0m         \u001b[1;32mreturn\u001b[0m \u001b[0marr\u001b[0m \u001b[1;32mif\u001b[0m \u001b[0mreturn_rgb_array\u001b[0m \u001b[1;32melse\u001b[0m \u001b[0mself\u001b[0m\u001b[1;33m.\u001b[0m\u001b[0misopen\u001b[0m\u001b[1;33m\u001b[0m\u001b[1;33m\u001b[0m\u001b[0m\n",
      "\u001b[1;32mc:\\users\\aa\\appdata\\local\\programs\\python\\python39\\lib\\site-packages\\pyglet\\window\\win32\\__init__.py\u001b[0m in \u001b[0;36mflip\u001b[1;34m(self)\u001b[0m\n\u001b[0;32m    354\u001b[0m             \u001b[1;32mif\u001b[0m \u001b[0mself\u001b[0m\u001b[1;33m.\u001b[0m\u001b[0m_always_dwm\u001b[0m \u001b[1;32mor\u001b[0m \u001b[0mself\u001b[0m\u001b[1;33m.\u001b[0m\u001b[0m_dwm_composition_enabled\u001b[0m\u001b[1;33m(\u001b[0m\u001b[1;33m)\u001b[0m\u001b[1;33m:\u001b[0m\u001b[1;33m\u001b[0m\u001b[1;33m\u001b[0m\u001b[0m\n\u001b[0;32m    355\u001b[0m                 \u001b[1;32mif\u001b[0m \u001b[0mself\u001b[0m\u001b[1;33m.\u001b[0m\u001b[0m_interval\u001b[0m\u001b[1;33m:\u001b[0m\u001b[1;33m\u001b[0m\u001b[1;33m\u001b[0m\u001b[0m\n\u001b[1;32m--> 356\u001b[1;33m                     \u001b[0m_dwmapi\u001b[0m\u001b[1;33m.\u001b[0m\u001b[0mDwmFlush\u001b[0m\u001b[1;33m(\u001b[0m\u001b[1;33m)\u001b[0m\u001b[1;33m\u001b[0m\u001b[1;33m\u001b[0m\u001b[0m\n\u001b[0m\u001b[0;32m    357\u001b[0m \u001b[1;33m\u001b[0m\u001b[0m\n\u001b[0;32m    358\u001b[0m         \u001b[0mself\u001b[0m\u001b[1;33m.\u001b[0m\u001b[0mcontext\u001b[0m\u001b[1;33m.\u001b[0m\u001b[0mflip\u001b[0m\u001b[1;33m(\u001b[0m\u001b[1;33m)\u001b[0m\u001b[1;33m\u001b[0m\u001b[1;33m\u001b[0m\u001b[0m\n",
      "\u001b[1;31mKeyboardInterrupt\u001b[0m: "
     ]
    }
   ],
   "source": [
    "scores, choices = [], []\n",
    "episode=50\n",
    "timelist=[]\n",
    "anglelist=[]\n",
    "vel=[]\n",
    "time=0\n",
    "for each_game in range(episode):\n",
    "    #temp_time=[]\n",
    "    #temp_angle=[]\n",
    "    #temp_vel=[]\n",
    "    score = 0\n",
    "    game_memory, prev_obs = [], []\n",
    "    env.reset()\n",
    "    #for _ in range(500):\n",
    "    done = False\n",
    "    while not done:\n",
    "        env.render()\n",
    "        if len(prev_obs) == 0:\n",
    "            action = random.randrange(0,2)\n",
    "        else:\n",
    "            action = GA_model_predict(prev_obs, weights)\n",
    "        choices.append(action)    \n",
    "        new_observation, reward, done, info = env.step(action)\n",
    "        prev_obs = new_observation\n",
    "        game_memory.append([new_observation, action])\n",
    "        score += reward\n",
    "        time=time+1\n",
    "        timelist.append(time)\n",
    "        #temp_angle.append(state[2])\n",
    "        anglelist.append(new_observation[2])\n",
    "        #temp_vel.append(state[3])\n",
    "        vel.append(new_observation[3])\n",
    "        if done:\n",
    "            break\n",
    "    #timelist.append(temp_time)\n",
    "    #anglelist.append(temp_angle)\n",
    "    #vel.append(temp_vel)\n",
    "    scores.append(score)\n",
    "    print(\"Tournament: {}, total_reward: {:.2f}\".format(each_game, score))\n",
    "print('Required Score:',str(score_requirement))    \n",
    "print('Average Score Achieved:',sum(scores)/len(scores))\n",
    "env.close()"
   ]
  },
  {
   "cell_type": "code",
   "execution_count": null,
   "id": "fa5f1d8c",
   "metadata": {},
   "outputs": [],
   "source": [
    "new_observation"
   ]
  },
  {
   "cell_type": "code",
   "execution_count": null,
   "id": "802eaabf",
   "metadata": {},
   "outputs": [],
   "source": [
    "timelist[-1]\n",
    "anglelist[-1]"
   ]
  },
  {
   "cell_type": "code",
   "execution_count": 20,
   "id": "4a94680c",
   "metadata": {},
   "outputs": [
    {
     "name": "stderr",
     "output_type": "stream",
     "text": [
      "No handles with labels found to put in legend.\n"
     ]
    },
    {
     "data": {
      "image/png": "[encoded data removed]",
      "text/plain": [
       "<Figure size 640x480 with 1 Axes>"
      ]
     },
     "metadata": {
      "needs_background": "light"
     },
     "output_type": "display_data"
    }
   ],
   "source": [
    "plt.figure(figsize=(8, 6), dpi=80)\n",
    "plt.ylim([-1, 1])\n",
    "plt.plot(timelist,anglelist)\n",
    "#plt.plot(list(range(num_generations)), fitness_history_max, label = 'Max Fitness')\n",
    "plt.legend()\n",
    "plt.title('Plot of Angle Vs Time')\n",
    "plt.xlabel('time')\n",
    "plt.ylabel('Angle')\n",
    "plt.show()"
   ]
  },
  {
   "cell_type": "code",
   "execution_count": 21,
   "id": "232a38e8",
   "metadata": {},
   "outputs": [
    {
     "name": "stderr",
     "output_type": "stream",
     "text": [
      "No handles with labels found to put in legend.\n"
     ]
    },
    {
     "data": {
      "image/png": "[encoded data removed]",
      "text/plain": [
       "<Figure size 640x480 with 1 Axes>"
      ]
     },
     "metadata": {
      "needs_background": "light"
     },
     "output_type": "display_data"
    }
   ],
   "source": [
    "plt.figure(figsize=(8, 6), dpi=80)\n",
    "plt.ylim([-1, 1])\n",
    "plt.plot(timelist,vel)\n",
    "#plt.plot(list(range(num_generations)), fitness_history_max, label = 'Max Fitness')\n",
    "plt.legend()\n",
    "plt.title('Plot of Angular Velocity Vs Time')\n",
    "plt.xlabel('time')\n",
    "plt.ylabel('Angular Velocity')\n",
    "plt.show()"
   ]
  },
  {
   "cell_type": "code",
   "execution_count": null,
   "id": "351d848e",
   "metadata": {},
   "outputs": [],
   "source": []
  }
 ],
 "metadata": {
  "kernelspec": {
   "display_name": "Python 3",
   "language": "python",
   "name": "python3"
  },
  "language_info": {
   "codemirror_mode": {
    "name": "ipython",
    "version": 3
   },
   "file_extension": ".py",
   "mimetype": "text/x-python",
   "name": "python",
   "nbconvert_exporter": "python",
   "pygments_lexer": "ipython3",
   "version": "3.9.4"
  }
 },
 "nbformat": 4,
 "nbformat_minor": 5
}
